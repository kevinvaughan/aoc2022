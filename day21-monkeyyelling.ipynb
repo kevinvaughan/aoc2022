{
 "cells": [
  {
   "cell_type": "code",
   "execution_count": 1,
   "metadata": {},
   "outputs": [],
   "source": [
    "\"\"\"\n",
    "Sorting out dependencies\n",
    "\n",
    "Given a list in this format:\n",
    "---\n",
    "root: pppw + sjmn\n",
    "dbpl: 5\n",
    "cczh: sllz + lgvd\n",
    "zczc: 2\n",
    "ptdq: humn - dvpt\n",
    "dvpt: 3\n",
    "lfqf: 4\n",
    "humn: 5\n",
    "ljgn: 2\n",
    "sjmn: drzm * dbpl\n",
    "sllz: 4\n",
    "pppw: cczh / lfqf\n",
    "lgvd: ljgn * ptdq\n",
    "drzm: hmdt - zczc\n",
    "hmdt: 32\n",
    "---\n",
    "\n",
    "Where each line is [name]: [value] and the value is either a number or an expression,\n",
    "where the expression is a combination of the names of other lines, and the operators\n",
    "are +, -, *, /.\n",
    "\n",
    "The goal is to determine the value of the root line.\n",
    "\"\"\"\n",
    "\n",
    "import sys\n",
    "import re\n",
    "\n"
   ]
  },
  {
   "cell_type": "code",
   "execution_count": 8,
   "metadata": {},
   "outputs": [],
   "source": [
    "def parse_line(line):\n",
    "    \"\"\"\n",
    "    Parse a line of the input file.\n",
    "    Returns a tuple of (name, value, dependencies)\n",
    "    \"\"\"\n",
    "    try:\n",
    "        name, value = line.split(':')\n",
    "        dependencies = []\n",
    "        # if value is an int, we have no dependencies\n",
    "        if not value.strip().isdigit():\n",
    "            # find all the names in the value\n",
    "            dependencies = re.findall('[a-z]{4}', value)\n",
    "        return name.strip(), value.strip(), dependencies\n",
    "    except Exception as e:\n",
    "        print(\"Error parsing line: {}\".format(line))\n",
    "        raise e\n",
    "\n",
    "def parse_yelling_monkeys(lines):\n",
    "    \"\"\"\n",
    "    Parses a set of lines in to dependent monkeys.\n",
    "    Returns a dictionary of {name: (value, dependencies)}\n",
    "    \"\"\"\n",
    "    return {name: (value, dependencies) for name, value, dependencies in map(parse_line, lines)}\n",
    "\n",
    "def parse_file(filename):\n",
    "    \"\"\"\n",
    "    Parses a file of monkey yelling.\n",
    "    Returns a dictionary of {name: (value, dependencies)}\n",
    "    \"\"\"\n",
    "    with open(filename) as f:\n",
    "        return parse_yelling_monkeys(f.readlines())"
   ]
  },
  {
   "cell_type": "code",
   "execution_count": 15,
   "metadata": {},
   "outputs": [
    {
     "data": {
      "text/plain": [
       "41857219607906.0"
      ]
     },
     "execution_count": 15,
     "metadata": {},
     "output_type": "execute_result"
    }
   ],
   "source": [
    "# monkeys is a dict keyed on the name of the monkey, with the value being a tuple of (value, dependencies)\n",
    "# where value is either a number or an expression, and dependencies is a list of the names of the other monkeys referenced in the expression\n",
    "\n",
    "# start from the 'root' monkey, and work our way down the tree, evaluating the expressions as we go\n",
    "# we'll keep a dict of the values of the monkeys we've already evaluated, so we don't have to re-evaluate them\n",
    "# we'll also keep a list of the monkeys we've evaluated, so we can detect circular dependencies\n",
    "\n",
    "def evaluate_monkey(monkey, monkeys, monkey_values, evaluated_monkeys):\n",
    "    \"\"\"\n",
    "    Evaluates the value of a monkey, and returns the value.\n",
    "    \"\"\"\n",
    "    # if we've already evaluated this monkey, return the value\n",
    "    if monkey in evaluated_monkeys:\n",
    "        return monkey_values[monkey]\n",
    "    # if the monkey has no dependencies, it's a number, so just return the value\n",
    "    if not monkeys[monkey][1]:\n",
    "        monkey_values[monkey] = int(monkeys[monkey][0])\n",
    "        evaluated_monkeys.append(monkey)\n",
    "        return monkey_values[monkey]\n",
    "    # if we get here, we need to evaluate the expression\n",
    "    # we'll do this by replacing the names of the dependencies with their values\n",
    "    # and then evaluating the expression\n",
    "    expression = monkeys[monkey][0]\n",
    "    for dependency in monkeys[monkey][1]:\n",
    "        expression = expression.replace(dependency, str(evaluate_monkey(dependency, monkeys, monkey_values, evaluated_monkeys)))\n",
    "    # now we can evaluate the expression\n",
    "    monkey_values[monkey] = eval(expression)\n",
    "    evaluated_monkeys.append(monkey)\n",
    "    return monkey_values[monkey]\n",
    "\n",
    "monkeys = parse_file('./day21-input.txt')\n",
    "evaluate_monkey('root', monkeys, {}, [])"
   ]
  },
  {
   "cell_type": "code",
   "execution_count": 32,
   "metadata": {},
   "outputs": [
    {
     "data": {
      "text/html": [
       "\n",
       "        <iframe\n",
       "            width=\"100%\"\n",
       "            height=\"100%\"\n",
       "            src=\"day21-monkeyyelling.html\"\n",
       "            frameborder=\"0\"\n",
       "            allowfullscreen\n",
       "            \n",
       "        ></iframe>\n",
       "        "
      ],
      "text/plain": [
       "<IPython.lib.display.IFrame at 0x7fb6d24989d0>"
      ]
     },
     "execution_count": 32,
     "metadata": {},
     "output_type": "execute_result"
    }
   ],
   "source": [
    "\"\"\"\n",
    "Rather than recursively evaluating the monkeys, let's first build a dependency graph to understand the structure of the monkeys.\n",
    "\"\"\"\n",
    "\n",
    "from pyvis.network import Network\n",
    "\n",
    "def build_dependency_graph(monkeys):\n",
    "    \"\"\"\n",
    "    Builds a dependency graph of the monkeys.\n",
    "    Returns a pyvis.network.Network object\n",
    "    \"\"\"\n",
    "    g = Network(notebook=True, cdn_resources='remote', height='100%', width='100%')\n",
    "    for monkey in monkeys:\n",
    "        color = 'gray'\n",
    "        if monkey == 'root':\n",
    "            color = 'green'\n",
    "        elif monkey == 'humn':\n",
    "            color = 'yellow'\n",
    "        elif len(monkeys[monkey][1]) > 0:\n",
    "            color = 'blue'\n",
    "        g.add_node(monkey, label=monkey, color=color)\n",
    "    for monkey in monkeys:\n",
    "        for dependency in monkeys[monkey][1]:\n",
    "            g.add_edge(monkey, dependency)\n",
    "    return g\n",
    "\n",
    "g = build_dependency_graph(monkeys)\n",
    "g.barnes_hut(spring_length=0, spring_strength=0.115, damping=0.17)\n",
    "g.show('day21-monkeyyelling.html')"
   ]
  },
  {
   "cell_type": "code",
   "execution_count": 62,
   "metadata": {},
   "outputs": [
    {
     "name": "stdout",
     "output_type": "stream",
     "text": [
      "((((15 - 4) * 19) + (((2 * ((((((2 * (((14 + (3 + 6)) + 11) + (8 + 5))) / 2) * 3) - (19 + (9 + 10))) * 2) + (((4 + 4) * 2) + (5 * 11)))) + (((2 * 10) + (3 * 3)) * 10)) + ((((((2 * ((((((5 * 5) + 4) + 18) + ((2 * 5) + (9 * 3))) + 5) + (3 * 4))) * 3) * ((((((2 * 4) - 1) * 7) * 2) + (((2 + (((5 + 1) * 3) + 5)) * (8 * 2)) / 2)) * 3)) + ((((2 * ((((((2 * 17) + (7 * 2)) + ((6 * 4) + 12)) + (10 * (2 * 19))) + 3) * 2)) * 7) + ((((14 * 2) + (13 * 3)) - (2 * (5 + (2 * 3)))) * ((((((10 * 4) + ((3 * (8 + (2 * 7))) / 2)) * 2) / 2) * 7) - (2 * (((((8 - 1) + 1) * 4) + (6 * (2 * 3))) + (10 + 1)))))) * (9 + 10))) * (((((2 * ((((1 + (3 * 7)) + 1) * (4 * 2)) + (4 * 7))) / 8) * (9 - 1)) + (5 * (((((4 + (3 * 3)) * 2) / 2) * ((13 * 3) + 16)) + (((3 * 3) * 3) + (5 * (20 + 3)))))) * (((2 * ((2 * ((2 * ((7 * 5) + (((3 + 4) + 1) * (((((((4 * 3) * 4) - 1) + (2 * 16)) * 2) + (9 * (5 * 2))) / (2 * 4))))) / 2)) / 2)) + (11 * 7)) * 17))) - (2 * ((((2 * (2 * 3)) * 2) * (3 * (2 * 4))) + ((((((6 + 5) * (4 * (20 + 2))) + (((((((5 + 2) * 8) - 15) + (7 + (11 * 2))) / 2) + (((((2 * ((((2 * (5 * 19)) + (2 * (((11 + (((3 * 4) - 4) - 1)) * (((((10 * ((13 + 16) + 2)) - (((((3 * 3) * 4) + (6 * 5)) / 2) * 2)) / 2) + ((((3 * 5) * 3) + (7 + (5 * 2))) + ((10 + 1) * 2))) + ((((((((((((5 * (((((2 + (((4 + (6 + (5 * 5))) + (13 * 4)) / 3)) * (2 + 9)) + (2 * (((((5 * ((2 * (3 + (4 + (((14 / 2) + 2) + 1)))) - (2 + (3 * 3)))) + (3 * (((2 * ((19 + 4) * 2)) - (5 * 5)) + ((19 + 3) - 3)))) + (((4 + 3) + 13) * (((((((5 + 2) * 7) * 2) + (((((2 * ((7 * 3) + 2)) + (7 * 13)) * 7) + ((((4 + 7) * (((((((5 + 17) + 8) * (15 * 2)) / 5) + (((4 * (20 + (6 + 5))) + (((((2 * ((((5 * (((17 + 8) + (3 * ((3 * 4) + 5))) + (3 * 7))) + ((17 * (humn - (((11 * 2) + 1) * 19))) + (2 * (((((4 * 2) + 1) * (4 * 3)) + (10 + 13)) + ((5 * 2) * 8))))) / 2) + (((10 + 1) * 2) * 8))) - (((4 * ((3 * (((2 * (7 + 4)) + ((3 * 3) + (1 + (((2 + (3 + (((4 * 2) * 4) / 4))) - 2) + 1)))) + 15)) + ((4 + 3) * (2 * (((5 * 2) + 1) + 2))))) / 4) + (((9 * 3) + (2 * ((3 * 5) + 16))) * 3))) / 2) - ((2 * (7 * 7)) + ((2 + (6 + (6 + 5))) * ((3 * 3) + (1 + (9 * 3)))))) * 2)) / 3)) / 2) - ((2 * 16) + (((8 + (9 * (3 * 3))) * 2) + (4 * ((6 * 4) + ((2 * (3 + 10)) + 11))))))) - (17 * 11)) / 6)) * 3)) + ((7 * (20 + 3)) + ((13 - 2) * (2 * (2 * (6 + ((2 * 3) + 1))))))) / (3 * 3)) - ((((2 * 4) * 19) / 4) * (17 - 1))))) / 3) - (((2 * (12 - 1)) + ((1 + 5) * 16)) * (4 * 2))))) / 5) - ((((2 * ((13 * 2) / 2)) + (3 * 7)) * 17) + ((3 * 5) * (4 + 3))))) + ((((3 * ((9 * 2) + (5 * 5))) + (4 * (2 * 5))) + ((5 * (16 - 5)) * (3 * 3))) + ((2 + 17) + (5 * 5)))) * 2) - ((((5 * (3 * 3)) + ((3 + 4) * 2)) - 2) * 4)) / 9) + (((((2 + (3 * 3)) * 2) + 10) + 9) * 11)) + ((((5 * ((((5 * 6) - 5) + (((5 + 2) + 4) * (5 + 18))) / 2)) + 14) * 2) / 2)) / 2) - 1) * 4) - ((((7 * 2) + (((3 * 3) * (4 * 2)) + 11)) * 2) + 7)) / ((3 * 3) - 2)))) - ((5 * ((7 * 5) + 2)) + 18)))) / 12) - (((((((11 * 2) + ((((6 * 17) + 5) - 10) + (2 * 17))) + (2 * (2 * (5 + (2 * 13))))) - ((2 * 17) * 2)) + (((((6 * 15) + (11 + (4 * 2))) * 2) / 2) * 2)) + (((5 + 4) * 3) * 5)) + (15 * (3 + (5 * 4)))))) + (((((3 * (4 * 2)) + 1) + (3 * 18)) + 4) * 12)) / 4) - (13 * (2 * (19 + (2 * 5))))) * 5)) / 2)) / 3) - (((11 * 5) * 14) + ((((((11 * 2) * 2) - 13) * 4) - (7 * 5)) * 2))) * 2)))))) / 2) - (((3 * ((((((3 * (2 * ((16 - 5) + (12 * (2 * 3))))) * ((8 + ((1 + ((1 + (2 + (2 + (3 * 2)))) + 1)) + (20 * 4))) * 2)) + (((2 * ((3 * 13) - 2)) / 2) * (5 * ((2 * (((((2 * 3) * (3 + 4)) + 1) + (2 * 5)) * 2)) + (5 * 13))))) * 4) / 2) / 2)) + ((5 * (((2 * (((2 * ((3 * 11) + ((2 * ((((4 * 2) * 3) + (10 + 3)) - 6)) * 2))) + (5 * (4 + (((((2 * 7) * 4) + 5) + (4 + 2)) - 20)))) + ((3 + ((2 * 13) / 2)) * (((((2 * 4) - 1) + 4) * 2) + (5 * 5))))) * 10) + (((((5 * ((3 * 3) + 14)) * (8 + ((5 * (9 - 2)) + 12))) + ((2 * (5 * (11 + 20))) + (((4 * 3) + 11) * ((2 * 3) * ((9 - 2) + 5))))) + (((2 * (((8 * 2) * 16) + (((9 * 3) * 2) + (((4 * 2) - 1) * 7)))) + (((16 + (5 * 9)) - 14) + 4)) * 2)) * 3))) + (((((2 * ((((2 * (((2 * ((3 + ((2 * ((7 * 7) / (6 + 1))) * 2)) * 2)) / 4) - 10)) * (20 + (7 + 6))) / 3) + (5 * (9 + 16)))) / 2) * 2) * 5) + ((((((((((3 * 3) + 3) + 1) * 5) + (2 * ((9 - 2) * 3))) + (5 * 4)) * (2 * 3)) + ((17 * (((((((5 * (7 * 3)) + ((10 * ((3 * 6) - 5)) - (2 * 19))) * 2) / 2) * 2) / 2) * 2)) / 2)) * 2) - (9 * (((((3 + 4) * 12) + (((2 * (((((2 * 3) + 5) * 8) - 17) + (2 * (((4 * 2) - 1) + ((2 * 13) + 10))))) * 2) / 4)) * 2) / 2)))))) * (((1 + (3 * 2)) * ((((2 * ((2 * ((2 * ((17 * 9) - 2)) + (((((8 - 1) * 3) * (7 * 3)) + (5 * ((7 * 3) + 16))) + (11 * ((((((15 + 4) * 2) / 2) + 3) * 3) / 2))))) / 2)) * ((6 + (((2 * 6) * 4) / 2)) + (11 * 2))) + ((((8 * 14) * (9 * (7 + 3))) + ((((((2 * 4) + 3) * 5) * (6 * (3 * 2))) + ((10 * (6 + 1)) * (4 * (10 + 3)))) + (((3 + 4) * ((10 * ((12 + (5 * 7)) + (2 * 7))) + ((1 + (3 * 2)) * (3 * ((9 * 2) + 5))))) - ((3 * ((((2 * 3) + 1) * (2 + ((3 * 2) + 5))) + (2 * (((2 * (((5 + (2 * 3)) - 2) + 2)) * 8) / 4)))) * 2)))) * 3)) + ((3 * (15 + (7 * 4))) * ((((((2 * (10 + 3)) * (2 * (10 + 3))) - ((((12 - 2) * 4) + (((((7 * 4) + 1) + 9) + 4) / 2)) + (2 * (13 + 1)))) * 2) / 2) * 2)))) + (19 * (2 * ((((4 * 2) * 2) * (((((4 + 3) * (((((((7 * 2) - 3) * ((3 * 3) + 2)) * 3) + ((2 * ((3 + 4) + (3 * (2 * 4)))) * 2)) * 7) / 7)) / 7) + ((((((4 * 19) - (6 + 5)) * (3 + (5 * 2))) + (5 * (12 + (7 * 5)))) + (((((1 + ((2 * 5) - 3)) + 10) + 13) * 2) + ((6 + 5) * 3))) - (((5 * (5 * 2)) + (((5 + 18) + (11 + (2 * (3 * 4)))) + 1)) + (((5 * ((((3 * 7) - 5) + (6 + (10 - 3))) - (3 * 2))) / 5) * (11 + 1))))) * 2)) + (((3 * (((5 * 5) * (5 * 5)) + (((8 + (4 + (12 + 7))) + 1) * 8))) + (6 * (((12 + 3) * (3 + 4)) + 13))) * ((((2 * (3 * (4 + 3))) - 5) * 3) + 2)))))))\n"
     ]
    },
    {
     "data": {
      "text/plain": [
       "[3916936880448]"
      ]
     },
     "execution_count": 62,
     "metadata": {},
     "output_type": "execute_result"
    }
   ],
   "source": [
    "\"\"\"\n",
    "Given a monkey, we want to recursively build an expression that we can evaluate by expanding the dependencies in the formula. We'll keep a list of the monkeys we've already evaluated, so we can detect circular dependencies.\n",
    "\n",
    "For example:\n",
    "\n",
    "root: pppw + sjmn\n",
    "pppw: cczh / lfqf\n",
    "cczh: sllz + lgvd\n",
    "sllz: 4\n",
    "lfqf: 4\n",
    "lgvd: ljgn * sllz\n",
    "sjmn: sllz + lfqf\n",
    "\n",
    "pppw = cczh / lfqf = (sllz + lgvd) / lfqf = (sllz + (ljgn * sllz)) / lfqf\n",
    "\n",
    "\"\"\"\n",
    "\n",
    "def build_expression(monkey, monkeys, evaluated_monkeys):\n",
    "    \"\"\"\n",
    "    Recursively builds an expression for a monkey.\n",
    "    \"\"\"\n",
    "    # if we've already evaluated this monkey, return the value\n",
    "    if monkey in evaluated_monkeys:\n",
    "        return monkey\n",
    "    # if the monkey has no dependencies, it's a number, so just return the value\n",
    "    if not monkeys[monkey][1]:\n",
    "        evaluated_monkeys.append(monkey)\n",
    "        return monkeys[monkey][0]\n",
    "    # if we get here, we need to evaluate the expression\n",
    "    # we'll do this by replacing the names of the dependencies with their values\n",
    "    # and then evaluating the expression\n",
    "    expression = monkeys[monkey][0]\n",
    "    for dependency in monkeys[monkey][1]:\n",
    "        expression = expression.replace(dependency, build_expression(dependency, monkeys, evaluated_monkeys))\n",
    "    evaluated_monkeys.append(monkey)\n",
    "    return '(' + expression + ')'\n",
    "\n",
    "monkeys = parse_file('./day21-input.txt')\n",
    "\n",
    "monkeys['root'] = (' = '.join(monkeys['root'][1]), monkeys['root'][1])\n",
    "monkeys['humn'] = ('humn', [])\n",
    "\n",
    "# build an equality equation for the root monkey\n",
    "# eq_equation = build_expression('root', monkeys, [])\n",
    "# print(eq_equation)\n",
    "\n",
    "# from sympy import solve, Symbol, sympify\n",
    "\n",
    "# # convert eq_equation to a sympy expression\n",
    "# eq_expression = sympify(eq_equation)\n",
    "\n",
    "expr1 = build_expression(monkeys['root'][1][0], monkeys, [])\n",
    "expr2 = build_expression(monkeys['root'][1][1], monkeys, [])\n",
    "\n",
    "print(expr1 + ' - ' + expr2)\n",
    "\n",
    "from sympy import solve, Symbol, sympify\n",
    "\n",
    "solve(expr1 + ' - ' + expr2, 'humn')"
   ]
  }
 ],
 "metadata": {
  "kernelspec": {
   "display_name": "playground",
   "language": "python",
   "name": "python3"
  },
  "language_info": {
   "codemirror_mode": {
    "name": "ipython",
    "version": 3
   },
   "file_extension": ".py",
   "mimetype": "text/x-python",
   "name": "python",
   "nbconvert_exporter": "python",
   "pygments_lexer": "ipython3",
   "version": "3.9.12"
  },
  "orig_nbformat": 4,
  "vscode": {
   "interpreter": {
    "hash": "c0142b69bce688a01a07ce2991cdec24a6bf10b93d8f9d55be439b5064167465"
   }
  }
 },
 "nbformat": 4,
 "nbformat_minor": 2
}
