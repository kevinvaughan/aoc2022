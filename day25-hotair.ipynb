{
 "cells": [
  {
   "cell_type": "code",
   "execution_count": 2,
   "metadata": {},
   "outputs": [],
   "source": [
    "import sys\n"
   ]
  },
  {
   "cell_type": "code",
   "execution_count": 3,
   "metadata": {},
   "outputs": [],
   "source": [
    "# PARSE INPUT\n",
    "\"\"\"\n",
    "Fuel requirements input file\n",
    "Provides a list of fuel requirements for each balloon burner\n",
    "Measured in Special Numeral-Analogue Fuel Units (SNAFUs)\n",
    "\n",
    "Format example:\n",
    "1=-0-2\n",
    "12111\n",
    "2=0=\n",
    "21\n",
    "2=01\n",
    "111\n",
    "20012\n",
    "112\n",
    "1=-1=\n",
    "1-12\n",
    "12\n",
    "1=\n",
    "122\n",
    "\"\"\"\n",
    "\n",
    "# Read input file\n",
    "def load_balloon_fuel_requirements(filename) -> list:\n",
    "    with open(filename, 'r') as f:\n",
    "        return f.read().splitlines()\n"
   ]
  },
  {
   "cell_type": "code",
   "execution_count": 26,
   "metadata": {},
   "outputs": [],
   "source": [
    "# Conversion functions\n",
    "\n",
    "\"\"\"\n",
    "Converts a SNAFU string to a decimal integer\n",
    "\n",
    "Instead of 1s, 10s, 100s, 1000s, etc., SNAFU uses 1s, 5s, 25s, 125s, etc.\n",
    "\n",
    "SNAFU is a numeral system that uses the digits 2, 1, 0, \"-\", \"=\". \"-\" is worth -1 and called minus, and \"=\" is worth -2 and called double-minus.\n",
    "\n",
    "Example decimal to SNAFU translations:\n",
    "    Decimal     SNAFU\n",
    "    1           1\n",
    "    2           2\n",
    "    3           1=\n",
    "    4           1-\n",
    "    5           10\n",
    "    6           11\n",
    "    7           12\n",
    "    8           2=\n",
    "    9           2-\n",
    "    10          20\n",
    "    15          1=0\n",
    "    20          1-0\n",
    "    2022        1=11-2\n",
    "    12345       1-0---0\n",
    "    314159265   1121-1110-1=0\n",
    "\n",
    "So, because ten (in normal numbers) is two fives and no ones, in SNAFU it is written 20. Since eight (in normal numbers) is two fives minus two ones, it is written 2=.\n",
    "\n",
    "You can do it the other direction, too. Say you have the SNAFU number 2=-01. That's 2 in the 625s place, = (double-minus) in the 125s place, - (minus) in the 25s place, 0 in the 5s place, and 1 in the 1s place. (2 times 625) plus (-2 times 125) plus (-1 times 25) plus (0 times 5) plus (1 times 1). That's 1250 plus -250 plus -25 plus 0 plus 1. 976!\n",
    "\n",
    "\"\"\"\n",
    "def snafu_to_decimal(snafu: str) -> int:\n",
    "    # Convert SNAFU to decimal\n",
    "    decimal = 0\n",
    "    # Iterate over the digits in reverse order\n",
    "    for i, digit in enumerate(snafu[::-1]):\n",
    "        if digit == '1':\n",
    "            decimal += 1 * 5**i\n",
    "        elif digit == '2':\n",
    "            decimal += 2 * 5**i\n",
    "        elif digit == '0':\n",
    "            decimal += 0 * 5**i\n",
    "        elif digit == '-':\n",
    "            decimal += -1 * 5**i\n",
    "        elif digit == '=':\n",
    "            decimal += -2 * 5**i\n",
    "    return decimal\n",
    "\n",
    "def decimal_to_snafu(decimal: int) -> str:\n",
    "    # Convert decimal to SNAFU\n",
    "    snafu = ''\n",
    "    while decimal > 0:\n",
    "        remainder = decimal % 5\n",
    "        if remainder == 1:\n",
    "            snafu += '1'\n",
    "        elif remainder == 2:\n",
    "            snafu += '2'\n",
    "        elif remainder == 0:\n",
    "            snafu += '0'\n",
    "        elif remainder == 4:\n",
    "            snafu += '-'\n",
    "            decimal += 1\n",
    "        elif remainder == 3:\n",
    "            snafu += '='\n",
    "            decimal += 2\n",
    "        decimal //= 5\n",
    "    return snafu[::-1]\n"
   ]
  },
  {
   "cell_type": "code",
   "execution_count": 20,
   "metadata": {},
   "outputs": [
    {
     "data": {
      "text/plain": [
       "-1250"
      ]
     },
     "execution_count": 20,
     "metadata": {},
     "output_type": "execute_result"
    }
   ],
   "source": [
    "-2 * 5**4"
   ]
  },
  {
   "cell_type": "code",
   "execution_count": 28,
   "metadata": {},
   "outputs": [
    {
     "name": "stdout",
     "output_type": "stream",
     "text": [
      "snafu_to_decimal_test passed\n",
      "decimal_to_snafu_test passed\n"
     ]
    }
   ],
   "source": [
    "def snafu_to_decimal_test():\n",
    "    # Check those sample values and provide meaningful output if they fail\n",
    "    assert snafu_to_decimal('1') == 1, f\"1 should be 1, but it was {snafu_to_decimal('1')}\"\n",
    "    assert snafu_to_decimal('2') == 2, f\"2 should be 2, but it was {snafu_to_decimal('2')}\"\n",
    "    assert snafu_to_decimal('1=') == 3, f\"1= should be 3, but it was {snafu_to_decimal('1=')}\"\n",
    "    assert snafu_to_decimal('1-') == 4, f\"1- should be 4, but it was {snafu_to_decimal('1-')}\"\n",
    "    assert snafu_to_decimal('10') == 5, f\"10 should be 5, but it was {snafu_to_decimal('10')}\"\n",
    "    assert snafu_to_decimal('11') == 6, f\"11 should be 6, but it was {snafu_to_decimal('11')}\"\n",
    "    assert snafu_to_decimal('12') == 7, f\"12 should be 7, but it was {snafu_to_decimal('12')}\"\n",
    "    assert snafu_to_decimal('2=') == 8, f\"2= should be 8, but it was {snafu_to_decimal('2=')}\"\n",
    "    assert snafu_to_decimal('2-') == 9, f\"2- should be 9, but it was {snafu_to_decimal('2-')}\"\n",
    "    assert snafu_to_decimal('20') == 10, f\"20 should be 10, but it was {snafu_to_decimal('20')}\"\n",
    "    assert snafu_to_decimal('1=0') == 15, f\"1=0 should be 15, but it was {snafu_to_decimal('1=0')}\"\n",
    "    assert snafu_to_decimal('1-0') == 20, f\"1-0 should be 20, but it was {snafu_to_decimal('1-0')}\"\n",
    "    assert snafu_to_decimal('1=11-2') == 2022, f\"1=11-2 should be 2022, but it was {snafu_to_decimal('1=11-2')}\"\n",
    "    assert snafu_to_decimal('1-0---0') == 12345, f\"1-0---0 should be 12345, but it was {snafu_to_decimal('1-0---0')}\"\n",
    "    assert snafu_to_decimal('1121-1110-1=0') == 314159265, f\"1121-1110-1=0 should be 314159265, but it was {snafu_to_decimal('1121-1110-1=0')}\"\n",
    "    \n",
    "    print(\"snafu_to_decimal_test passed\")\n",
    "\n",
    "def decimal_to_snafu_test():\n",
    "    # Check those sample values and provide meaningful output if they fail\n",
    "    assert decimal_to_snafu(1) == '1', f\"1 should be 1, but it was {decimal_to_snafu(1)}\"\n",
    "    assert decimal_to_snafu(2) == '2', f\"2 should be 2, but it was {decimal_to_snafu(2)}\"\n",
    "    assert decimal_to_snafu(3) == '1=', f\"3 should be 1=, but it was {decimal_to_snafu(3)}\"\n",
    "    assert decimal_to_snafu(4) == '1-', f\"4 should be 1-, but it was {decimal_to_snafu(4)}\"\n",
    "    assert decimal_to_snafu(5) == '10', f\"5 should be 10, but it was {decimal_to_snafu(5)}\"\n",
    "    assert decimal_to_snafu(6) == '11', f\"6 should be 11, but it was {decimal_to_snafu(6)}\"\n",
    "    assert decimal_to_snafu(7) == '12', f\"7 should be 12, but it was {decimal_to_snafu(7)}\"\n",
    "    assert decimal_to_snafu(8) == '2=', f\"8 should be 2=, but it was {decimal_to_snafu(8)}\"\n",
    "    assert decimal_to_snafu(9) == '2-', f\"9 should be 2-, but it was {decimal_to_snafu(9)}\"\n",
    "    assert decimal_to_snafu(10) == '20', f\"10 should be 20, but it was {decimal_to_snafu(10)}\"\n",
    "    assert decimal_to_snafu(15) == '1=0', f\"15 should be 1=0, but it was {decimal_to_snafu(15)}\"\n",
    "    assert decimal_to_snafu(20) == '1-0', f\"20 should be 1-0, but it was {decimal_to_snafu(20)}\"\n",
    "    assert decimal_to_snafu(2022) == '1=11-2', f\"2022 should be 1=11-2, but it was {decimal_to_snafu(2022)}\"\n",
    "    assert decimal_to_snafu(12345) == '1-0---0', f\"12345 should be 1-0---0, but it was {decimal_to_snafu(12345)}\"\n",
    "    assert decimal_to_snafu(314159265) == '1121-1110-1=0', f\"314159265 should be 1121-1110-1=0, but it was {decimal_to_snafu(314159265)}\"\n",
    "\n",
    "    print(\"decimal_to_snafu_test passed\")\n",
    "\n",
    "def snafu_test():\n",
    "    snafu_to_decimal_test()\n",
    "    decimal_to_snafu_test()\n",
    "\n",
    "snafu_test()"
   ]
  },
  {
   "cell_type": "code",
   "execution_count": null,
   "metadata": {},
   "outputs": [],
   "source": [
    "# snafu_list = load_balloon_fuel_requirements('./day25-sampleinput.txt')\n",
    "snafu_list = load_balloon_fuel_requirements('./day25-input.txt')\n",
    "total_snafu = 0\n",
    "for snafu in snafu_list:\n",
    "    total_snafu += snafu_to_decimal(snafu)\n",
    "    print(\"SNAFU: {}, DECIMAL: {}, REVERSED: {}\".format(snafu, snafu_to_decimal(snafu), decimal_to_snafu(snafu_to_decimal(snafu))))\n",
    "\n",
    "print()\n",
    "print(total_snafu, decimal_to_snafu(total_snafu))"
   ]
  }
 ],
 "metadata": {
  "kernelspec": {
   "display_name": "playground",
   "language": "python",
   "name": "python3"
  },
  "language_info": {
   "codemirror_mode": {
    "name": "ipython",
    "version": 3
   },
   "file_extension": ".py",
   "mimetype": "text/x-python",
   "name": "python",
   "nbconvert_exporter": "python",
   "pygments_lexer": "ipython3",
   "version": "3.9.12"
  },
  "orig_nbformat": 4,
  "vscode": {
   "interpreter": {
    "hash": "c0142b69bce688a01a07ce2991cdec24a6bf10b93d8f9d55be439b5064167465"
   }
  }
 },
 "nbformat": 4,
 "nbformat_minor": 2
}
